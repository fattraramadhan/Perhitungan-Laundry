{
 "cells": [
  {
   "cell_type": "code",
   "execution_count": null,
   "metadata": {},
   "outputs": [],
   "source": [
    "#Nama\t:Fattra Ramdhan\n",
    "#Nim\t:5200611029\n",
    "#Prodi\t:Teknik Industri A\n",
    "#Perhitungan Modal dan Keuntungan Laundry"
   ]
  },
  {
   "cell_type": "code",
   "execution_count": null,
   "metadata": {},
   "outputs": [],
   "source": [
    "import pandas as pd"
   ]
  },
  {
   "cell_type": "code",
   "execution_count": null,
   "metadata": {},
   "outputs": [],
   "source": [
    "data=pd.read_excel('databaselaundry.xlsx')\n",
    "data"
   ]
  },
  {
   "cell_type": "code",
   "execution_count": null,
   "metadata": {},
   "outputs": [],
   "source": [
    "layanan_1 = data[data['layanan']==1]\n",
    "layanan_1"
   ]
  },
  {
   "cell_type": "code",
   "execution_count": null,
   "metadata": {},
   "outputs": [],
   "source": [
    "jumlah_layanan_1 = layanan_1.count()[0]\n",
    "print('Jumlah Pelanggan Menggunakan Layanan 1: ',jumlah_layanan_1)"
   ]
  },
  {
   "cell_type": "code",
   "execution_count": null,
   "metadata": {},
   "outputs": [],
   "source": [
    "jumlah_berat_1 = layanan_1.sum()[3]\n",
    "print('Jumlah Berat Menggunakan Layanan 1: ',jumlah_berat_1)"
   ]
  },
  {
   "cell_type": "code",
   "execution_count": null,
   "metadata": {},
   "outputs": [],
   "source": [
    "layanan_2 = data[data['layanan']==2]\n",
    "layanan_2"
   ]
  },
  {
   "cell_type": "code",
   "execution_count": null,
   "metadata": {},
   "outputs": [],
   "source": [
    "jumlah_layanan_2 = layanan_2.count()[0]\n",
    "print('Jumlah Pelanggan Menggunakan Layanan 2: ',jumlah_layanan_2)"
   ]
  },
  {
   "cell_type": "code",
   "execution_count": null,
   "metadata": {},
   "outputs": [],
   "source": [
    "jumlah_berat_2 = layanan_2.sum()[3]\n",
    "print('Jumlah Berat Menggunakan Layanan 2: ',jumlah_berat_2)"
   ]
  },
  {
   "cell_type": "code",
   "execution_count": null,
   "metadata": {},
   "outputs": [],
   "source": [
    "layanan_3 = data[data['layanan']==3]\n",
    "layanan_3"
   ]
  },
  {
   "cell_type": "code",
   "execution_count": null,
   "metadata": {},
   "outputs": [],
   "source": [
    "jumlah_layanan_3 = layanan_3.count()[0]\n",
    "print('Jumlah Pelanggan Menggunakan Layanan 3: ',jumlah_layanan_3)"
   ]
  },
  {
   "cell_type": "code",
   "execution_count": null,
   "metadata": {},
   "outputs": [],
   "source": [
    "jumlah_berat_3 = layanan_3.sum()[3]\n",
    "print('Jumlah Berat Menggunakan Layanan 3: ',jumlah_berat_3)"
   ]
  },
  {
   "cell_type": "code",
   "execution_count": null,
   "metadata": {},
   "outputs": [],
   "source": [
    "layanan_4 = data[data['layanan']==4]\n",
    "layanan_4"
   ]
  },
  {
   "cell_type": "code",
   "execution_count": null,
   "metadata": {},
   "outputs": [],
   "source": [
    "jumlah_layanan_4 = layanan_4.count()[0]\n",
    "print('Jumlah Pelanggan Menggunakan Layanan 4: ',jumlah_layanan_4)"
   ]
  },
  {
   "cell_type": "code",
   "execution_count": null,
   "metadata": {},
   "outputs": [],
   "source": [
    "jumlah_berat_4 = layanan_4.sum()[3]\n",
    "print('Jumlah Berat Menggunakan Layanan 4: ',jumlah_berat_4)"
   ]
  },
  {
   "cell_type": "code",
   "execution_count": null,
   "metadata": {},
   "outputs": [],
   "source": [
    "#Modal Awal\n",
    "MC=int(input('Harga MC(2unit):Rp'))\n",
    "MP=int(input('Harga MP(1unit):Rp'))\n",
    "Strk=int(input('Harga Strk(5unit):Rp'))\n",
    "TG=int(input('Harga TG(1unit):Rp'))\n",
    "Ren=int(input('Biaya Ren(1xRen):Rp'))\n",
    "MK=int(input('Harga Mk(1set):Rp'))\n",
    "Prom=int(input('Biaya Prom(1xProm):Rp'))\n",
    "Total_Awal=(MC+MP+Strk+TG+Ren+MK+Prom)\n",
    "print(Total_Awal)"
   ]
  },
  {
   "cell_type": "code",
   "execution_count": null,
   "metadata": {},
   "outputs": [],
   "source": [
    "# Biaya Bulanan\n",
    "Lstrk=int(input('Biaya Lstrk(1bln):Rp'))\n",
    "Dtrgn=int(input('Harga Dtgrn(1kg):Rp'))\n",
    "Pwngi=int(input('Harga Pwngi(1kg):Rp'))\n",
    "GK=int(input('Biaya GK(1krywn):Rp'))\n",
    "Air=int(input('Biaya Air(1bln):Rp'))\n",
    "Baj=int(input('Biaya Baj(1bln):Rp'))\n",
    "Dll=int(input('Biaya Dll(1bln):Rp'))\n",
    "Total_Blnan=(Lstrk+Dtrgn+Pwngi+GK+Air+Baj+Dll)*6\n",
    "print(Total_Blnan)\n",
    "Total_Modal=(Total_Awal+Total_Blnan)\n",
    "print(Total_Modal)"
   ]
  },
  {
   "cell_type": "code",
   "execution_count": null,
   "metadata": {},
   "outputs": [],
   "source": [
    "#layanan1(Regular)=Rp4000\n",
    "#layanan2(One Day +)=Rp5000\n",
    "#layanan3(One Day)=Rp7000\n",
    "#layanan4(Express)=Rp10000"
   ]
  },
  {
   "cell_type": "code",
   "execution_count": null,
   "metadata": {},
   "outputs": [],
   "source": [
    "#Total Berat Laundry Setiap Layanan\n",
    "P1=jumlah_berat_1\n",
    "P2=jumlah_berat_2\n",
    "P3=jumlah_berat_3\n",
    "P4=jumlah_berat_4"
   ]
  },
  {
   "cell_type": "code",
   "execution_count": null,
   "metadata": {},
   "outputs": [],
   "source": [
    "#Layanan 1\n",
    "layanan=int(input('Hrg_laundry(layanan):'))"
   ]
  },
  {
   "cell_type": "code",
   "execution_count": null,
   "metadata": {},
   "outputs": [],
   "source": [
    "def kategori(layanan):\n",
    "    if(layanan>3):\n",
    "        B=10000\n",
    "    elif(layanan==3):\n",
    "        B=7000\n",
    "    elif(layanan==2):\n",
    "        B=5000\n",
    "    else:\n",
    "        B=4000\n",
    "    return B"
   ]
  },
  {
   "cell_type": "code",
   "execution_count": null,
   "metadata": {},
   "outputs": [],
   "source": [
    "input_kategori=kategori(layanan)\n",
    "P1_Total=P1*input_kategori\n",
    "print(P1_Total)"
   ]
  },
  {
   "cell_type": "code",
   "execution_count": null,
   "metadata": {},
   "outputs": [],
   "source": [
    "#Layanan 2\n",
    "layanan=int(input('Hrg_laundry(layanan):'))"
   ]
  },
  {
   "cell_type": "code",
   "execution_count": null,
   "metadata": {},
   "outputs": [],
   "source": [
    "def kategori(layanan):\n",
    "    if(layanan>3):\n",
    "        B=10000\n",
    "    elif(layanan==3):\n",
    "        B=7000\n",
    "    elif(layanan==2):\n",
    "        B=5000\n",
    "    else:\n",
    "        B=4000\n",
    "    return B"
   ]
  },
  {
   "cell_type": "code",
   "execution_count": null,
   "metadata": {},
   "outputs": [],
   "source": [
    "input_kategori=kategori(layanan)\n",
    "P2_Total=P2*input_kategori\n",
    "print(P2_Total)"
   ]
  },
  {
   "cell_type": "code",
   "execution_count": null,
   "metadata": {},
   "outputs": [],
   "source": [
    "#Layanan 3\n",
    "layanan=int(input('Hrg_laundry(layanan):'))"
   ]
  },
  {
   "cell_type": "code",
   "execution_count": null,
   "metadata": {},
   "outputs": [],
   "source": [
    "def kategori(layanan):\n",
    "    if(layanan>3):\n",
    "        B=10000\n",
    "    elif(layanan==3):\n",
    "        B=7000\n",
    "    elif(layanan==2):\n",
    "        B=5000\n",
    "    else:\n",
    "        B=4000\n",
    "    return B"
   ]
  },
  {
   "cell_type": "code",
   "execution_count": null,
   "metadata": {},
   "outputs": [],
   "source": [
    "input_kategori=kategori(layanan)\n",
    "P3_Total=P3*input_kategori\n",
    "print(P3_Total)"
   ]
  },
  {
   "cell_type": "code",
   "execution_count": null,
   "metadata": {},
   "outputs": [],
   "source": [
    "#Layanan 4\n",
    "layanan=int(input('Hrg_laundry(layanan):'))"
   ]
  },
  {
   "cell_type": "code",
   "execution_count": null,
   "metadata": {},
   "outputs": [],
   "source": [
    "def kategori(layanan):\n",
    "    if(layanan>3):\n",
    "        B=10000\n",
    "    elif(layanan==3):\n",
    "        B=7000\n",
    "    elif(layanan==2):\n",
    "        B=5000\n",
    "    else:\n",
    "        B=4000\n",
    "    return B"
   ]
  },
  {
   "cell_type": "code",
   "execution_count": null,
   "metadata": {},
   "outputs": [],
   "source": [
    "input_kategori=kategori(layanan)\n",
    "P4_Total=P4*input_kategori\n",
    "print(P4_Total)"
   ]
  },
  {
   "cell_type": "code",
   "execution_count": null,
   "metadata": {},
   "outputs": [],
   "source": [
    "#Asumsi Keuntungan Total\n",
    "Keuntungan_Total=((P1_Total+P2_Total+P3_Total+P4_Total)-Total_Modal)\n",
    "print(Keuntungan_Total)"
   ]
  }
 ],
 "metadata": {
  "kernelspec": {
   "display_name": "Python 3",
   "language": "python",
   "name": "python3"
  },
  "language_info": {
   "codemirror_mode": {
    "name": "ipython",
    "version": 3
   },
   "file_extension": ".py",
   "mimetype": "text/x-python",
   "name": "python",
   "nbconvert_exporter": "python",
   "pygments_lexer": "ipython3",
   "version": "3.7.6"
  }
 },
 "nbformat": 4,
 "nbformat_minor": 4
}
